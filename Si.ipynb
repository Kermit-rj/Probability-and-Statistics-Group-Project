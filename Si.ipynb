{
 "cells": [
  {
   "cell_type": "markdown",
   "source": [
    "## 数据预处理过程\n",
    "\n",
    "### 1. 对审计公司的名称进行更改\n",
    "\n",
    "Co., Ltd是责任有限公司和股份有限公司的缩写\n",
    "\n",
    "处理出现的问题：\n",
    "\n",
    "BDO China Shu Lun Pan Certified Public Accountants LLP\n",
    "\n",
    "BDO CHINA SHU LUN PAN Certified Public Accountants LLP (Special General Partnership)\n",
    "\n",
    "只是公司名称大小写的区别，应该还是同一家公司\n",
    "\n",
    "### 2. 建立哑变量\n",
    "\n",
    "八大记为1，非八大记为0\n",
    "\n",
    "Standard Unqualified Opinion\n",
    "\n",
    "Unqualified Opinion with Emphasis of Matter Paragraph\n",
    "\n",
    "标准记为1，非标准记为0\n",
    "\n",
    "### 3. 排序\n",
    "\n",
    "原本是按照时间排序，现在按照公司名排序，然后再排时间\n",
    "\n",
    "### 4. 生成时间\n",
    "\n",
    "real可以将字符串转化为数字\n",
    "\n",
    "substr(str,n1,n2)提取字符串，n1代表起始位置，n2代表长度\n",
    "\n",
    "剔除半年报数据，仅留下年报数据\n",
    "\n",
    "### 5. 根据公司、年份进行分组\n",
    "\n",
    "_N代表样本数\n",
    "\n",
    "_n代表样本的序号\n",
    "\n",
    "样本数等于1记为0，不等于1则记为样本序号，去掉序号大于1的样本\n",
    "\n",
    "### 6. 保留合并报表数据以及年报数据\n",
    "\n",
    "statement type = A表示合并报表数据\n",
    "\n",
    "### 7. 计算财务比率\n",
    "\n",
    "Debt_to_Equity = TotalLiabilities/TotalShareholdersEquity\n",
    "\n",
    "Current_ratio = TotalCurrentAssets/TotalAssets"
   ],
   "metadata": {
    "collapsed": false,
    "pycharm": {
     "name": "#%% md\n"
    }
   }
  },
  {
   "cell_type": "markdown",
   "source": [
    "## 数据分析"
   ],
   "metadata": {
    "collapsed": false,
    "pycharm": {
     "name": "#%% md\n"
    }
   }
  },
  {
   "cell_type": "code",
   "metadata": {
    "collapsed": true,
    "ExecuteTime": {
     "end_time": "2025-03-12T12:38:50.194053Z",
     "start_time": "2025-03-12T12:38:48.826920Z"
    }
   },
   "source": [
    "import pandas as pd"
   ],
   "outputs": [],
   "execution_count": 1
  },
  {
   "cell_type": "code",
   "source": [
    "df = pd.read_stata(r'D:/WORK SPACE/Siyu Lin/Data & Codes/Audit_Combas_data.dta')\n",
    "\n",
    "df"
   ],
   "metadata": {
    "collapsed": false,
    "pycharm": {
     "name": "#%%\n"
    },
    "ExecuteTime": {
     "end_time": "2025-03-12T12:38:50.263690Z",
     "start_time": "2025-03-12T12:38:50.199060Z"
    }
   },
   "outputs": [
    {
     "data": {
      "text/plain": [
       "        Stkcd      Accper   TotalAssets    year  Debt_to_Equity  \\\n",
       "0      000001  2011-12-31  1.258177e+12  2011.0       15.690995   \n",
       "1      000001  2012-12-31  1.606537e+12  2012.0       17.945283   \n",
       "2      000001  2013-12-31  1.891741e+12  2013.0       15.878338   \n",
       "3      000001  2014-12-31  2.186459e+12  2014.0       15.697027   \n",
       "4      000001  2015-12-31  2.507149e+12  2015.0       14.524142   \n",
       "...       ...         ...           ...     ...             ...   \n",
       "16015  900957  2012-12-31  3.914345e+08  2012.0        0.025788   \n",
       "16016  900957  2013-12-31  3.954345e+08  2013.0        0.016397   \n",
       "16017  900957  2014-12-31  8.872896e+08  2014.0        1.178945   \n",
       "16018  900957  2015-12-31  1.015625e+09  2015.0        1.473041   \n",
       "16019  900957  2016-12-31  1.165033e+09  2016.0        1.958239   \n",
       "\n",
       "       Current_ratio  TotalAuditFees  big8  Audit_Opinion    Stkcd1  \n",
       "0                NaN       8190000.0   1.0            1.0       1.0  \n",
       "1           0.000000      11320000.0   1.0            1.0       1.0  \n",
       "2           0.000000       9580000.0   1.0            1.0       1.0  \n",
       "3           0.000000       9676000.0   1.0            1.0       1.0  \n",
       "4           0.000000      10066000.0   1.0            1.0       1.0  \n",
       "...              ...             ...   ...            ...       ...  \n",
       "16015       0.030261        350000.0   0.0            1.0  900957.0  \n",
       "16016       0.184145        350000.0   0.0            1.0  900957.0  \n",
       "16017       0.120545        350000.0   0.0            1.0  900957.0  \n",
       "16018       0.147454        350000.0   1.0            1.0  900957.0  \n",
       "16019       0.294377        370000.0   1.0            1.0  900957.0  \n",
       "\n",
       "[16020 rows x 10 columns]"
      ],
      "text/html": [
       "<div>\n",
       "<style scoped>\n",
       "    .dataframe tbody tr th:only-of-type {\n",
       "        vertical-align: middle;\n",
       "    }\n",
       "\n",
       "    .dataframe tbody tr th {\n",
       "        vertical-align: top;\n",
       "    }\n",
       "\n",
       "    .dataframe thead th {\n",
       "        text-align: right;\n",
       "    }\n",
       "</style>\n",
       "<table border=\"1\" class=\"dataframe\">\n",
       "  <thead>\n",
       "    <tr style=\"text-align: right;\">\n",
       "      <th></th>\n",
       "      <th>Stkcd</th>\n",
       "      <th>Accper</th>\n",
       "      <th>TotalAssets</th>\n",
       "      <th>year</th>\n",
       "      <th>Debt_to_Equity</th>\n",
       "      <th>Current_ratio</th>\n",
       "      <th>TotalAuditFees</th>\n",
       "      <th>big8</th>\n",
       "      <th>Audit_Opinion</th>\n",
       "      <th>Stkcd1</th>\n",
       "    </tr>\n",
       "  </thead>\n",
       "  <tbody>\n",
       "    <tr>\n",
       "      <th>0</th>\n",
       "      <td>000001</td>\n",
       "      <td>2011-12-31</td>\n",
       "      <td>1.258177e+12</td>\n",
       "      <td>2011.0</td>\n",
       "      <td>15.690995</td>\n",
       "      <td>NaN</td>\n",
       "      <td>8190000.0</td>\n",
       "      <td>1.0</td>\n",
       "      <td>1.0</td>\n",
       "      <td>1.0</td>\n",
       "    </tr>\n",
       "    <tr>\n",
       "      <th>1</th>\n",
       "      <td>000001</td>\n",
       "      <td>2012-12-31</td>\n",
       "      <td>1.606537e+12</td>\n",
       "      <td>2012.0</td>\n",
       "      <td>17.945283</td>\n",
       "      <td>0.000000</td>\n",
       "      <td>11320000.0</td>\n",
       "      <td>1.0</td>\n",
       "      <td>1.0</td>\n",
       "      <td>1.0</td>\n",
       "    </tr>\n",
       "    <tr>\n",
       "      <th>2</th>\n",
       "      <td>000001</td>\n",
       "      <td>2013-12-31</td>\n",
       "      <td>1.891741e+12</td>\n",
       "      <td>2013.0</td>\n",
       "      <td>15.878338</td>\n",
       "      <td>0.000000</td>\n",
       "      <td>9580000.0</td>\n",
       "      <td>1.0</td>\n",
       "      <td>1.0</td>\n",
       "      <td>1.0</td>\n",
       "    </tr>\n",
       "    <tr>\n",
       "      <th>3</th>\n",
       "      <td>000001</td>\n",
       "      <td>2014-12-31</td>\n",
       "      <td>2.186459e+12</td>\n",
       "      <td>2014.0</td>\n",
       "      <td>15.697027</td>\n",
       "      <td>0.000000</td>\n",
       "      <td>9676000.0</td>\n",
       "      <td>1.0</td>\n",
       "      <td>1.0</td>\n",
       "      <td>1.0</td>\n",
       "    </tr>\n",
       "    <tr>\n",
       "      <th>4</th>\n",
       "      <td>000001</td>\n",
       "      <td>2015-12-31</td>\n",
       "      <td>2.507149e+12</td>\n",
       "      <td>2015.0</td>\n",
       "      <td>14.524142</td>\n",
       "      <td>0.000000</td>\n",
       "      <td>10066000.0</td>\n",
       "      <td>1.0</td>\n",
       "      <td>1.0</td>\n",
       "      <td>1.0</td>\n",
       "    </tr>\n",
       "    <tr>\n",
       "      <th>...</th>\n",
       "      <td>...</td>\n",
       "      <td>...</td>\n",
       "      <td>...</td>\n",
       "      <td>...</td>\n",
       "      <td>...</td>\n",
       "      <td>...</td>\n",
       "      <td>...</td>\n",
       "      <td>...</td>\n",
       "      <td>...</td>\n",
       "      <td>...</td>\n",
       "    </tr>\n",
       "    <tr>\n",
       "      <th>16015</th>\n",
       "      <td>900957</td>\n",
       "      <td>2012-12-31</td>\n",
       "      <td>3.914345e+08</td>\n",
       "      <td>2012.0</td>\n",
       "      <td>0.025788</td>\n",
       "      <td>0.030261</td>\n",
       "      <td>350000.0</td>\n",
       "      <td>0.0</td>\n",
       "      <td>1.0</td>\n",
       "      <td>900957.0</td>\n",
       "    </tr>\n",
       "    <tr>\n",
       "      <th>16016</th>\n",
       "      <td>900957</td>\n",
       "      <td>2013-12-31</td>\n",
       "      <td>3.954345e+08</td>\n",
       "      <td>2013.0</td>\n",
       "      <td>0.016397</td>\n",
       "      <td>0.184145</td>\n",
       "      <td>350000.0</td>\n",
       "      <td>0.0</td>\n",
       "      <td>1.0</td>\n",
       "      <td>900957.0</td>\n",
       "    </tr>\n",
       "    <tr>\n",
       "      <th>16017</th>\n",
       "      <td>900957</td>\n",
       "      <td>2014-12-31</td>\n",
       "      <td>8.872896e+08</td>\n",
       "      <td>2014.0</td>\n",
       "      <td>1.178945</td>\n",
       "      <td>0.120545</td>\n",
       "      <td>350000.0</td>\n",
       "      <td>0.0</td>\n",
       "      <td>1.0</td>\n",
       "      <td>900957.0</td>\n",
       "    </tr>\n",
       "    <tr>\n",
       "      <th>16018</th>\n",
       "      <td>900957</td>\n",
       "      <td>2015-12-31</td>\n",
       "      <td>1.015625e+09</td>\n",
       "      <td>2015.0</td>\n",
       "      <td>1.473041</td>\n",
       "      <td>0.147454</td>\n",
       "      <td>350000.0</td>\n",
       "      <td>1.0</td>\n",
       "      <td>1.0</td>\n",
       "      <td>900957.0</td>\n",
       "    </tr>\n",
       "    <tr>\n",
       "      <th>16019</th>\n",
       "      <td>900957</td>\n",
       "      <td>2016-12-31</td>\n",
       "      <td>1.165033e+09</td>\n",
       "      <td>2016.0</td>\n",
       "      <td>1.958239</td>\n",
       "      <td>0.294377</td>\n",
       "      <td>370000.0</td>\n",
       "      <td>1.0</td>\n",
       "      <td>1.0</td>\n",
       "      <td>900957.0</td>\n",
       "    </tr>\n",
       "  </tbody>\n",
       "</table>\n",
       "<p>16020 rows × 10 columns</p>\n",
       "</div>"
      ]
     },
     "execution_count": 2,
     "metadata": {},
     "output_type": "execute_result"
    }
   ],
   "execution_count": 2
  },
  {
   "cell_type": "markdown",
   "source": [
    "### Step1"
   ],
   "metadata": {
    "collapsed": false,
    "pycharm": {
     "name": "#%% md\n"
    }
   }
  },
  {
   "cell_type": "code",
   "source": [
    "df_des = df.loc[:,['TotalAssets','Debt_to_Equity','Current_ratio',\n",
    "                   'TotalAuditFees','big8','Audit_Opinion']]\n",
    "\n",
    "df_des.describe()"
   ],
   "metadata": {
    "collapsed": false,
    "pycharm": {
     "name": "#%%\n"
    },
    "ExecuteTime": {
     "end_time": "2025-03-12T12:38:50.297754Z",
     "start_time": "2025-03-12T12:38:50.265686Z"
    }
   },
   "outputs": [
    {
     "data": {
      "text/plain": [
       "        TotalAssets  Debt_to_Equity  Current_ratio  TotalAuditFees  \\\n",
       "count  1.602000e+04    16020.000000   15928.000000    1.566000e+04   \n",
       "mean   5.500622e+10        1.407971       0.568546    1.626832e+06   \n",
       "std    7.038368e+11        7.773084       0.222327    7.270127e+06   \n",
       "min    3.083701e+06     -340.170598       0.000000    1.000000e+04   \n",
       "25%    1.370392e+09        0.331963       0.417729    5.200000e+05   \n",
       "50%    2.986036e+09        0.724614       0.589101    7.500000e+05   \n",
       "75%    7.606772e+09        1.527468       0.741840    1.200000e+06   \n",
       "max    2.413726e+13      531.924648       1.000000    2.220000e+08   \n",
       "\n",
       "               big8  Audit_Opinion  \n",
       "count  16020.000000   16020.000000  \n",
       "mean       0.326342       0.962484  \n",
       "std        0.468889       0.190027  \n",
       "min        0.000000       0.000000  \n",
       "25%        0.000000       1.000000  \n",
       "50%        0.000000       1.000000  \n",
       "75%        1.000000       1.000000  \n",
       "max        1.000000       1.000000  "
      ],
      "text/html": [
       "<div>\n",
       "<style scoped>\n",
       "    .dataframe tbody tr th:only-of-type {\n",
       "        vertical-align: middle;\n",
       "    }\n",
       "\n",
       "    .dataframe tbody tr th {\n",
       "        vertical-align: top;\n",
       "    }\n",
       "\n",
       "    .dataframe thead th {\n",
       "        text-align: right;\n",
       "    }\n",
       "</style>\n",
       "<table border=\"1\" class=\"dataframe\">\n",
       "  <thead>\n",
       "    <tr style=\"text-align: right;\">\n",
       "      <th></th>\n",
       "      <th>TotalAssets</th>\n",
       "      <th>Debt_to_Equity</th>\n",
       "      <th>Current_ratio</th>\n",
       "      <th>TotalAuditFees</th>\n",
       "      <th>big8</th>\n",
       "      <th>Audit_Opinion</th>\n",
       "    </tr>\n",
       "  </thead>\n",
       "  <tbody>\n",
       "    <tr>\n",
       "      <th>count</th>\n",
       "      <td>1.602000e+04</td>\n",
       "      <td>16020.000000</td>\n",
       "      <td>15928.000000</td>\n",
       "      <td>1.566000e+04</td>\n",
       "      <td>16020.000000</td>\n",
       "      <td>16020.000000</td>\n",
       "    </tr>\n",
       "    <tr>\n",
       "      <th>mean</th>\n",
       "      <td>5.500622e+10</td>\n",
       "      <td>1.407971</td>\n",
       "      <td>0.568546</td>\n",
       "      <td>1.626832e+06</td>\n",
       "      <td>0.326342</td>\n",
       "      <td>0.962484</td>\n",
       "    </tr>\n",
       "    <tr>\n",
       "      <th>std</th>\n",
       "      <td>7.038368e+11</td>\n",
       "      <td>7.773084</td>\n",
       "      <td>0.222327</td>\n",
       "      <td>7.270127e+06</td>\n",
       "      <td>0.468889</td>\n",
       "      <td>0.190027</td>\n",
       "    </tr>\n",
       "    <tr>\n",
       "      <th>min</th>\n",
       "      <td>3.083701e+06</td>\n",
       "      <td>-340.170598</td>\n",
       "      <td>0.000000</td>\n",
       "      <td>1.000000e+04</td>\n",
       "      <td>0.000000</td>\n",
       "      <td>0.000000</td>\n",
       "    </tr>\n",
       "    <tr>\n",
       "      <th>25%</th>\n",
       "      <td>1.370392e+09</td>\n",
       "      <td>0.331963</td>\n",
       "      <td>0.417729</td>\n",
       "      <td>5.200000e+05</td>\n",
       "      <td>0.000000</td>\n",
       "      <td>1.000000</td>\n",
       "    </tr>\n",
       "    <tr>\n",
       "      <th>50%</th>\n",
       "      <td>2.986036e+09</td>\n",
       "      <td>0.724614</td>\n",
       "      <td>0.589101</td>\n",
       "      <td>7.500000e+05</td>\n",
       "      <td>0.000000</td>\n",
       "      <td>1.000000</td>\n",
       "    </tr>\n",
       "    <tr>\n",
       "      <th>75%</th>\n",
       "      <td>7.606772e+09</td>\n",
       "      <td>1.527468</td>\n",
       "      <td>0.741840</td>\n",
       "      <td>1.200000e+06</td>\n",
       "      <td>1.000000</td>\n",
       "      <td>1.000000</td>\n",
       "    </tr>\n",
       "    <tr>\n",
       "      <th>max</th>\n",
       "      <td>2.413726e+13</td>\n",
       "      <td>531.924648</td>\n",
       "      <td>1.000000</td>\n",
       "      <td>2.220000e+08</td>\n",
       "      <td>1.000000</td>\n",
       "      <td>1.000000</td>\n",
       "    </tr>\n",
       "  </tbody>\n",
       "</table>\n",
       "</div>"
      ]
     },
     "execution_count": 3,
     "metadata": {},
     "output_type": "execute_result"
    }
   ],
   "execution_count": 3
  },
  {
   "cell_type": "markdown",
   "source": [
    "### Step2"
   ],
   "metadata": {
    "collapsed": false,
    "pycharm": {
     "name": "#%% md\n"
    }
   }
  },
  {
   "cell_type": "code",
   "source": [
    "from scipy import stats"
   ],
   "metadata": {
    "collapsed": false,
    "pycharm": {
     "name": "#%%\n"
    },
    "ExecuteTime": {
     "end_time": "2025-03-12T12:38:51.711193Z",
     "start_time": "2025-03-12T12:38:50.300752Z"
    }
   },
   "outputs": [],
   "execution_count": 4
  },
  {
   "cell_type": "code",
   "source": [
    "# 对缺失值进行剔除处理\n",
    "AF_big8 = df.loc[df['big8'] == 1, 'TotalAuditFees'].dropna(axis=0, how='any')\n",
    "AF_nonbig8 = df.loc[df['big8'] == 0, 'TotalAuditFees'].dropna(axis=0, how='any')"
   ],
   "metadata": {
    "collapsed": false,
    "pycharm": {
     "name": "#%%\n"
    },
    "ExecuteTime": {
     "end_time": "2025-03-12T12:38:51.727197Z",
     "start_time": "2025-03-12T12:38:51.713191Z"
    }
   },
   "outputs": [],
   "execution_count": 5
  },
  {
   "cell_type": "code",
   "source": [
    "# 检验是否AF_big8和AF_nonbig8是否具有方差齐性。若pvalue<0.05则认为不具有方差齐性\n",
    "stats.levene(AF_big8, AF_nonbig8)"
   ],
   "metadata": {
    "collapsed": false,
    "pycharm": {
     "name": "#%%\n"
    },
    "ExecuteTime": {
     "end_time": "2025-03-12T12:38:51.744198Z",
     "start_time": "2025-03-12T12:38:51.732193Z"
    }
   },
   "outputs": [
    {
     "data": {
      "text/plain": [
       "LeveneResult(statistic=235.79507601281244, pvalue=7.880265919554605e-53)"
      ]
     },
     "execution_count": 6,
     "metadata": {},
     "output_type": "execute_result"
    }
   ],
   "execution_count": 6
  },
  {
   "cell_type": "code",
   "source": [
    "stats.ttest_ind(AF_big8, AF_nonbig8, equal_var = False)"
   ],
   "metadata": {
    "collapsed": false,
    "pycharm": {
     "name": "#%%\n"
    },
    "ExecuteTime": {
     "end_time": "2025-03-12T12:38:51.756966Z",
     "start_time": "2025-03-12T12:38:51.746196Z"
    }
   },
   "outputs": [
    {
     "data": {
      "text/plain": [
       "Ttest_indResult(statistic=11.327609333610312, pvalue=2.1286320014234735e-29)"
      ]
     },
     "execution_count": 7,
     "metadata": {},
     "output_type": "execute_result"
    }
   ],
   "execution_count": 7
  },
  {
   "cell_type": "markdown",
   "source": [
    "在置信度为95%的情况下，拒绝原假设。审计公司不同，审计费用有显著性差异"
   ],
   "metadata": {
    "collapsed": false,
    "pycharm": {
     "name": "#%% md\n"
    }
   }
  },
  {
   "cell_type": "markdown",
   "source": [
    "### Step3"
   ],
   "metadata": {
    "collapsed": false,
    "pycharm": {
     "name": "#%% md\n"
    }
   }
  },
  {
   "cell_type": "code",
   "source": [
    "TA_Q1 = df['TotalAssets'].quantile(0.25)\n",
    "TA_Q2 = df['TotalAssets'].quantile(0.5)\n",
    "TA_Q3 = df['TotalAssets'].quantile(0.75)\n",
    "\n",
    "AF1 = df.loc[df['TotalAssets'] < TA_Q1, 'TotalAuditFees'].dropna(axis=0, how='any')\n",
    "AF2 = df.loc[(df['TotalAssets'] >= TA_Q1) & (df['TotalAssets'] < TA_Q2), 'TotalAuditFees'].dropna(axis=0, how='any')\n",
    "AF3 = df.loc[(df['TotalAssets'] >= TA_Q2) & (df['TotalAssets'] < TA_Q3), 'TotalAuditFees'].dropna(axis=0, how='any')\n",
    "AF4 = df.loc[df['TotalAssets'] >= TA_Q3, 'TotalAuditFees'].dropna(axis=0, how='any')"
   ],
   "metadata": {
    "collapsed": false,
    "pycharm": {
     "name": "#%%\n"
    },
    "ExecuteTime": {
     "end_time": "2025-03-12T12:38:51.776977Z",
     "start_time": "2025-03-12T12:38:51.758968Z"
    }
   },
   "outputs": [],
   "execution_count": 8
  },
  {
   "cell_type": "code",
   "source": [
    "stats.f_oneway(AF1, AF2, AF3, AF4)"
   ],
   "metadata": {
    "collapsed": false,
    "pycharm": {
     "name": "#%%\n"
    },
    "ExecuteTime": {
     "end_time": "2025-03-12T12:38:51.788726Z",
     "start_time": "2025-03-12T12:38:51.779973Z"
    }
   },
   "outputs": [
    {
     "data": {
      "text/plain": [
       "F_onewayResult(statistic=239.4881583952804, pvalue=6.057930130597904e-152)"
      ]
     },
     "execution_count": 9,
     "metadata": {},
     "output_type": "execute_result"
    }
   ],
   "execution_count": 9
  },
  {
   "cell_type": "markdown",
   "source": [
    "在置信度为95%的情况下，拒绝原假设。公司规模不同，审计费用有显著性差异"
   ],
   "metadata": {
    "collapsed": false,
    "pycharm": {
     "name": "#%% md\n"
    }
   }
  },
  {
   "cell_type": "markdown",
   "source": [
    "### Step4"
   ],
   "metadata": {
    "collapsed": false,
    "pycharm": {
     "name": "#%% md\n"
    }
   }
  },
  {
   "cell_type": "code",
   "source": [
    "import statsmodels.formula.api as smf"
   ],
   "metadata": {
    "collapsed": false,
    "pycharm": {
     "name": "#%%\n"
    },
    "ExecuteTime": {
     "end_time": "2025-03-12T12:38:52.023662Z",
     "start_time": "2025-03-12T12:38:51.793728Z"
    }
   },
   "outputs": [],
   "execution_count": 10
  },
  {
   "cell_type": "code",
   "source": [
    "# hetero\n",
    "results_LR_het = smf.ols(\"TotalAuditFees ~ big8\", data = df).fit(cov_type='HC0')\n",
    "\n",
    "results_LR_het.summary()"
   ],
   "metadata": {
    "collapsed": false,
    "pycharm": {
     "name": "#%%\n"
    },
    "ExecuteTime": {
     "end_time": "2025-03-12T14:02:32.328400Z",
     "start_time": "2025-03-12T14:02:32.223173Z"
    }
   },
   "outputs": [
    {
     "data": {
      "text/plain": [
       "<class 'statsmodels.iolib.summary.Summary'>\n",
       "\"\"\"\n",
       "                            OLS Regression Results                            \n",
       "==============================================================================\n",
       "Dep. Variable:         TotalAuditFees   R-squared:                       0.016\n",
       "Model:                            OLS   Adj. R-squared:                  0.016\n",
       "Method:                 Least Squares   F-statistic:                     128.3\n",
       "Date:                Wed, 12 Mar 2025   Prob (F-statistic):           1.23e-29\n",
       "Time:                        22:02:32   Log-Likelihood:            -2.6951e+05\n",
       "No. Observations:               15660   AIC:                         5.390e+05\n",
       "Df Residuals:                   15658   BIC:                         5.390e+05\n",
       "Df Model:                           1                                         \n",
       "Covariance Type:                  HC0                                         \n",
       "==============================================================================\n",
       "                 coef    std err          z      P>|z|      [0.025      0.975]\n",
       "------------------------------------------------------------------------------\n",
       "Intercept   9.796e+05   1.26e+04     78.024      0.000    9.55e+05       1e+06\n",
       "big8        1.988e+06   1.76e+05     11.329      0.000    1.64e+06    2.33e+06\n",
       "==============================================================================\n",
       "Omnibus:                    34071.910   Durbin-Watson:                   0.334\n",
       "Prob(Omnibus):                  0.000   Jarque-Bera (JB):        147126984.484\n",
       "Skew:                          19.884   Prob(JB):                         0.00\n",
       "Kurtosis:                     476.181   Cond. No.                         2.41\n",
       "==============================================================================\n",
       "\n",
       "Notes:\n",
       "[1] Standard Errors are heteroscedasticity robust (HC0)\n",
       "\"\"\""
      ],
      "text/html": [
       "<table class=\"simpletable\">\n",
       "<caption>OLS Regression Results</caption>\n",
       "<tr>\n",
       "  <th>Dep. Variable:</th>     <td>TotalAuditFees</td>  <th>  R-squared:         </th>  <td>   0.016</td>  \n",
       "</tr>\n",
       "<tr>\n",
       "  <th>Model:</th>                   <td>OLS</td>       <th>  Adj. R-squared:    </th>  <td>   0.016</td>  \n",
       "</tr>\n",
       "<tr>\n",
       "  <th>Method:</th>             <td>Least Squares</td>  <th>  F-statistic:       </th>  <td>   128.3</td>  \n",
       "</tr>\n",
       "<tr>\n",
       "  <th>Date:</th>             <td>Wed, 12 Mar 2025</td> <th>  Prob (F-statistic):</th>  <td>1.23e-29</td>  \n",
       "</tr>\n",
       "<tr>\n",
       "  <th>Time:</th>                 <td>22:02:32</td>     <th>  Log-Likelihood:    </th> <td>-2.6951e+05</td>\n",
       "</tr>\n",
       "<tr>\n",
       "  <th>No. Observations:</th>      <td> 15660</td>      <th>  AIC:               </th>  <td>5.390e+05</td> \n",
       "</tr>\n",
       "<tr>\n",
       "  <th>Df Residuals:</th>          <td> 15658</td>      <th>  BIC:               </th>  <td>5.390e+05</td> \n",
       "</tr>\n",
       "<tr>\n",
       "  <th>Df Model:</th>              <td>     1</td>      <th>                     </th>      <td> </td>     \n",
       "</tr>\n",
       "<tr>\n",
       "  <th>Covariance Type:</th>         <td>HC0</td>       <th>                     </th>      <td> </td>     \n",
       "</tr>\n",
       "</table>\n",
       "<table class=\"simpletable\">\n",
       "<tr>\n",
       "      <td></td>         <th>coef</th>     <th>std err</th>      <th>z</th>      <th>P>|z|</th>  <th>[0.025</th>    <th>0.975]</th>  \n",
       "</tr>\n",
       "<tr>\n",
       "  <th>Intercept</th> <td> 9.796e+05</td> <td> 1.26e+04</td> <td>   78.024</td> <td> 0.000</td> <td> 9.55e+05</td> <td>    1e+06</td>\n",
       "</tr>\n",
       "<tr>\n",
       "  <th>big8</th>      <td> 1.988e+06</td> <td> 1.76e+05</td> <td>   11.329</td> <td> 0.000</td> <td> 1.64e+06</td> <td> 2.33e+06</td>\n",
       "</tr>\n",
       "</table>\n",
       "<table class=\"simpletable\">\n",
       "<tr>\n",
       "  <th>Omnibus:</th>       <td>34071.910</td> <th>  Durbin-Watson:     </th>   <td>   0.334</td>   \n",
       "</tr>\n",
       "<tr>\n",
       "  <th>Prob(Omnibus):</th>  <td> 0.000</td>   <th>  Jarque-Bera (JB):  </th> <td>147126984.484</td>\n",
       "</tr>\n",
       "<tr>\n",
       "  <th>Skew:</th>           <td>19.884</td>   <th>  Prob(JB):          </th>   <td>    0.00</td>   \n",
       "</tr>\n",
       "<tr>\n",
       "  <th>Kurtosis:</th>       <td>476.181</td>  <th>  Cond. No.          </th>   <td>    2.41</td>   \n",
       "</tr>\n",
       "</table><br/><br/>Notes:<br/>[1] Standard Errors are heteroscedasticity robust (HC0)"
      ]
     },
     "execution_count": 15,
     "metadata": {},
     "output_type": "execute_result"
    }
   ],
   "execution_count": 15
  },
  {
   "cell_type": "code",
   "source": [
    "# cluster has some error\n",
    "# results_LR_clu = smf.ols(\"TotalAuditFees ~ big8\", data = df).fit(cov_type='cluster', cov_kwds={'groups': df['Stkcd1']})\n",
    "\n",
    "# results_LR_clu.summary()"
   ],
   "metadata": {
    "collapsed": false,
    "pycharm": {
     "name": "#%%\n"
    },
    "ExecuteTime": {
     "end_time": "2025-03-12T14:02:41.578268Z",
     "start_time": "2025-03-12T14:02:41.574260Z"
    }
   },
   "outputs": [],
   "execution_count": 16
  },
  {
   "cell_type": "markdown",
   "source": [
    "### Step5"
   ],
   "metadata": {
    "collapsed": false,
    "pycharm": {
     "name": "#%% md\n"
    }
   }
  },
  {
   "cell_type": "code",
   "source": [
    "# hetero\n",
    "results_MLR_het = smf.ols(\"TotalAuditFees ~ big8 + TotalAssets + Debt_to_Equity + Current_ratio + Audit_Opinion\", data = df).fit(cov_type='HC0')\n",
    "\n",
    "results_MLR_het.summary()"
   ],
   "metadata": {
    "collapsed": false,
    "pycharm": {
     "name": "#%%\n"
    },
    "ExecuteTime": {
     "end_time": "2025-03-12T12:38:52.132685Z",
     "start_time": "2025-03-12T12:38:52.082674Z"
    }
   },
   "outputs": [
    {
     "name": "stderr",
     "output_type": "stream",
     "text": [
      "D:\\Anaconda3\\lib\\site-packages\\statsmodels\\base\\model.py:1871: ValueWarning: covariance of constraints does not have full rank. The number of constraints is 5, but rank is 4\n",
      "  warnings.warn('covariance of constraints does not have full '\n"
     ]
    },
    {
     "data": {
      "text/plain": [
       "<class 'statsmodels.iolib.summary.Summary'>\n",
       "\"\"\"\n",
       "                            OLS Regression Results                            \n",
       "==============================================================================\n",
       "Dep. Variable:         TotalAuditFees   R-squared:                       0.753\n",
       "Model:                            OLS   Adj. R-squared:                  0.753\n",
       "Method:                 Least Squares   F-statistic:                     47.39\n",
       "Date:                Wed, 12 Mar 2025   Prob (F-statistic):           1.16e-39\n",
       "Time:                        20:38:52   Log-Likelihood:            -2.5449e+05\n",
       "No. Observations:               15568   AIC:                         5.090e+05\n",
       "Df Residuals:                   15562   BIC:                         5.090e+05\n",
       "Df Model:                           5                                         \n",
       "Covariance Type:                  HC0                                         \n",
       "==================================================================================\n",
       "                     coef    std err          z      P>|z|      [0.025      0.975]\n",
       "----------------------------------------------------------------------------------\n",
       "Intercept       8.484e+05    7.4e+04     11.470      0.000    7.03e+05    9.93e+05\n",
       "big8            7.014e+05   5.75e+04     12.209      0.000    5.89e+05    8.14e+05\n",
       "TotalAssets     9.153e-06   5.38e-07     17.001      0.000     8.1e-06    1.02e-05\n",
       "Debt_to_Equity -3364.7568   2856.270     -1.178      0.239   -8962.943    2233.429\n",
       "Current_ratio  -3.897e+05   1.42e+05     -2.741      0.006   -6.68e+05   -1.11e+05\n",
       "Audit_Opinion   2.916e+05   3.77e+04      7.728      0.000    2.18e+05    3.66e+05\n",
       "==============================================================================\n",
       "Omnibus:                    22228.819   Durbin-Watson:                   0.578\n",
       "Prob(Omnibus):                  0.000   Jarque-Bera (JB):         27440009.073\n",
       "Skew:                           7.963   Prob(JB):                         0.00\n",
       "Kurtosis:                     208.057   Cond. No.                     4.40e+12\n",
       "==============================================================================\n",
       "\n",
       "Notes:\n",
       "[1] Standard Errors are heteroscedasticity robust (HC0)\n",
       "[2] The condition number is large, 4.4e+12. This might indicate that there are\n",
       "strong multicollinearity or other numerical problems.\n",
       "\"\"\""
      ],
      "text/html": [
       "<table class=\"simpletable\">\n",
       "<caption>OLS Regression Results</caption>\n",
       "<tr>\n",
       "  <th>Dep. Variable:</th>     <td>TotalAuditFees</td>  <th>  R-squared:         </th>  <td>   0.753</td>  \n",
       "</tr>\n",
       "<tr>\n",
       "  <th>Model:</th>                   <td>OLS</td>       <th>  Adj. R-squared:    </th>  <td>   0.753</td>  \n",
       "</tr>\n",
       "<tr>\n",
       "  <th>Method:</th>             <td>Least Squares</td>  <th>  F-statistic:       </th>  <td>   47.39</td>  \n",
       "</tr>\n",
       "<tr>\n",
       "  <th>Date:</th>             <td>Wed, 12 Mar 2025</td> <th>  Prob (F-statistic):</th>  <td>1.16e-39</td>  \n",
       "</tr>\n",
       "<tr>\n",
       "  <th>Time:</th>                 <td>20:38:52</td>     <th>  Log-Likelihood:    </th> <td>-2.5449e+05</td>\n",
       "</tr>\n",
       "<tr>\n",
       "  <th>No. Observations:</th>      <td> 15568</td>      <th>  AIC:               </th>  <td>5.090e+05</td> \n",
       "</tr>\n",
       "<tr>\n",
       "  <th>Df Residuals:</th>          <td> 15562</td>      <th>  BIC:               </th>  <td>5.090e+05</td> \n",
       "</tr>\n",
       "<tr>\n",
       "  <th>Df Model:</th>              <td>     5</td>      <th>                     </th>      <td> </td>     \n",
       "</tr>\n",
       "<tr>\n",
       "  <th>Covariance Type:</th>         <td>HC0</td>       <th>                     </th>      <td> </td>     \n",
       "</tr>\n",
       "</table>\n",
       "<table class=\"simpletable\">\n",
       "<tr>\n",
       "         <td></td>           <th>coef</th>     <th>std err</th>      <th>z</th>      <th>P>|z|</th>  <th>[0.025</th>    <th>0.975]</th>  \n",
       "</tr>\n",
       "<tr>\n",
       "  <th>Intercept</th>      <td> 8.484e+05</td> <td>  7.4e+04</td> <td>   11.470</td> <td> 0.000</td> <td> 7.03e+05</td> <td> 9.93e+05</td>\n",
       "</tr>\n",
       "<tr>\n",
       "  <th>big8</th>           <td> 7.014e+05</td> <td> 5.75e+04</td> <td>   12.209</td> <td> 0.000</td> <td> 5.89e+05</td> <td> 8.14e+05</td>\n",
       "</tr>\n",
       "<tr>\n",
       "  <th>TotalAssets</th>    <td> 9.153e-06</td> <td> 5.38e-07</td> <td>   17.001</td> <td> 0.000</td> <td>  8.1e-06</td> <td> 1.02e-05</td>\n",
       "</tr>\n",
       "<tr>\n",
       "  <th>Debt_to_Equity</th> <td>-3364.7568</td> <td> 2856.270</td> <td>   -1.178</td> <td> 0.239</td> <td>-8962.943</td> <td> 2233.429</td>\n",
       "</tr>\n",
       "<tr>\n",
       "  <th>Current_ratio</th>  <td>-3.897e+05</td> <td> 1.42e+05</td> <td>   -2.741</td> <td> 0.006</td> <td>-6.68e+05</td> <td>-1.11e+05</td>\n",
       "</tr>\n",
       "<tr>\n",
       "  <th>Audit_Opinion</th>  <td> 2.916e+05</td> <td> 3.77e+04</td> <td>    7.728</td> <td> 0.000</td> <td> 2.18e+05</td> <td> 3.66e+05</td>\n",
       "</tr>\n",
       "</table>\n",
       "<table class=\"simpletable\">\n",
       "<tr>\n",
       "  <th>Omnibus:</th>       <td>22228.819</td> <th>  Durbin-Watson:     </th>   <td>   0.578</td>  \n",
       "</tr>\n",
       "<tr>\n",
       "  <th>Prob(Omnibus):</th>  <td> 0.000</td>   <th>  Jarque-Bera (JB):  </th> <td>27440009.073</td>\n",
       "</tr>\n",
       "<tr>\n",
       "  <th>Skew:</th>           <td> 7.963</td>   <th>  Prob(JB):          </th>   <td>    0.00</td>  \n",
       "</tr>\n",
       "<tr>\n",
       "  <th>Kurtosis:</th>       <td>208.057</td>  <th>  Cond. No.          </th>   <td>4.40e+12</td>  \n",
       "</tr>\n",
       "</table><br/><br/>Notes:<br/>[1] Standard Errors are heteroscedasticity robust (HC0)<br/>[2] The condition number is large, 4.4e+12. This might indicate that there are<br/>strong multicollinearity or other numerical problems."
      ]
     },
     "execution_count": 13,
     "metadata": {},
     "output_type": "execute_result"
    }
   ],
   "execution_count": 13
  },
  {
   "cell_type": "code",
   "source": [
    "# cluster has some error\n",
    "# results_MLR_clu = smf.ols(\"TotalAuditFees ~ big8 + TotalAssets + Debt_to_Equity + Current_ratio + Audit_Opinion\", data = df).fit(cov_type='cluster', cov_kwds={'groups': df['Stkcd']})\n",
    "\n",
    "# results_MLR_clu.summary()"
   ],
   "metadata": {
    "collapsed": false,
    "pycharm": {
     "name": "#%%\n"
    },
    "ExecuteTime": {
     "end_time": "2025-03-12T12:38:52.140659Z",
     "start_time": "2025-03-12T12:38:52.135657Z"
    }
   },
   "outputs": [],
   "execution_count": 14
  }
 ],
 "metadata": {
  "kernelspec": {
   "display_name": "Python 3",
   "language": "python",
   "name": "python3"
  },
  "language_info": {
   "codemirror_mode": {
    "name": "ipython",
    "version": 2
   },
   "file_extension": ".py",
   "mimetype": "text/x-python",
   "name": "python",
   "nbconvert_exporter": "python",
   "pygments_lexer": "ipython2",
   "version": "2.7.6"
  }
 },
 "nbformat": 4,
 "nbformat_minor": 0
}
